{
 "metadata": {
  "language_info": {
   "codemirror_mode": {
    "name": "ipython",
    "version": 3
   },
   "file_extension": ".py",
   "mimetype": "text/x-python",
   "name": "python",
   "nbconvert_exporter": "python",
   "pygments_lexer": "ipython3",
   "version": "3.9.0"
  },
  "orig_nbformat": 4,
  "kernelspec": {
   "name": "python3",
   "display_name": "Python 3.9.0 64-bit"
  },
  "interpreter": {
   "hash": "c3c742944d030ed7ceb081d59e917637c2fe43c2005f70210fc2a4a18da1305e"
  }
 },
 "nbformat": 4,
 "nbformat_minor": 2,
 "cells": [
  {
   "cell_type": "code",
   "execution_count": 40,
   "metadata": {},
   "outputs": [],
   "source": [
    "from datetime import datetime, timedelta\n",
    "from urllib.parse import urlparse,  urljoin\n",
    "from bs4 import BeautifulSoup\n",
    "import aiohttp\n"
   ]
  },
  {
   "cell_type": "code",
   "execution_count": 41,
   "metadata": {},
   "outputs": [],
   "source": [
    "async def scrap_html(url, params=None) -> BeautifulSoup:\n",
    "    async with aiohttp.ClientSession() as session:\n",
    "        async with session.get(url, params=params) as res:\n",
    "            return BeautifulSoup(await res.text(), features=\"html.parser\")\n",
    "async def scrap_links(self):\n",
    "    pass\n",
    "def parse_date_index(date_text) -> datetime:\n",
    "    date = datetime.strptime(date_text, r'%Y/%m/%d %H:%M:%S')\n",
    "    return date"
   ]
  },
  {
   "cell_type": "code",
   "execution_count": 42,
   "metadata": {},
   "outputs": [],
   "source": [
    "def parse_date(self, date_text) -> datetime:\n",
    "        # Trim date name and น.\n",
    "        #date_text = ' '.join(date_text.strip().split(' ')[:-1])\n",
    "        print(date_text)\n",
    "        date_text = date_text.replace('วันที่', '')\n",
    "        date_text = date_text.replace('น.', '')  # remove เวลา\n",
    "        date_text = date_text.replace(':', '.')\n",
    "        date_text = date_text.replace('- ', '')\n",
    "        _, thai_month, thai_year, *_ = date_text.split(' ')\n",
    "        date_text = date_text.replace(\n",
    "            thai_month, constants.TH_FULL_MONTHS_MAPPER[thai_month])\n",
    "        date_text = date_text.replace(thai_year, str(int(thai_year) - 543))\n",
    "        date = datetime.strptime(date_text, r'%d %B %Y %H.%M')\n",
    "        return date"
   ]
  },
  {
   "cell_type": "code",
   "execution_count": 44,
   "metadata": {},
   "outputs": [],
   "source": [
    "index_url = 'https://www.matichon.co.th/politics/'"
   ]
  },
  {
   "cell_type": "code",
   "execution_count": 45,
   "metadata": {},
   "outputs": [],
   "source": [
    "soup = await scrap_html(index_url)"
   ]
  },
  {
   "cell_type": "code",
   "execution_count": 49,
   "metadata": {},
   "outputs": [],
   "source": [
    "\n",
    "articles = soup.find('div', attrs={'class', 'td-ss-main-content'})\n",
    "#articles = soup.find_all('a',attrs={'class':'ud-module-link'}, href=True)"
   ]
  },
  {
   "cell_type": "code",
   "execution_count": 64,
   "metadata": {},
   "outputs": [],
   "source": [
    "date_texts = (articles.find_all('span', attrs={'class': 'td-post-date'}))\n",
    "date_texts = list(map(lambda date_text: date_text.find('time',attrs={'class': 'entry-date updated td-module-date'}).text, date_texts))\n",
    "#.find('time',attrs='entry-date updated td-module-date').text, articles))"
   ]
  },
  {
   "cell_type": "code",
   "execution_count": 72,
   "metadata": {},
   "outputs": [],
   "source": [
    "date_text = 'วันที่ 15 กรกฎาคม 2564 - 19:41 น.'\n",
    "date_text = ' '.join(date_text.strip().split(' ')[1:-1])\n",
    "date_text = date_text.replace('วันที่', '')\n",
    "date_text = date_text.replace('น.', '')  # remove เวลา\n",
    "date_text = date_text.replace(':', '.')\n",
    "date_text = date_text.replace('-', '')\n",
    "date_text = date_text.replace('  ', ' ')"
   ]
  },
  {
   "cell_type": "code",
   "execution_count": 73,
   "metadata": {},
   "outputs": [
    {
     "output_type": "execute_result",
     "data": {
      "text/plain": [
       "'15 กรกฎาคม 2564 19.41'"
      ]
     },
     "metadata": {},
     "execution_count": 73
    }
   ],
   "source": [
    "date_text"
   ]
  },
  {
   "cell_type": "code",
   "execution_count": null,
   "metadata": {},
   "outputs": [],
   "source": []
  }
 ]
}